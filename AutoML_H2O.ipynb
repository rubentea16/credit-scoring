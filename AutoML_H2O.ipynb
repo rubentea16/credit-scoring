{
  "nbformat": 4,
  "nbformat_minor": 0,
  "metadata": {
    "colab": {
      "name": "AutoML_H2O.ipynb",
      "version": "0.3.2",
      "provenance": [],
      "collapsed_sections": []
    },
    "kernelspec": {
      "name": "python3",
      "display_name": "Python 3"
    },
    "accelerator": "GPU"
  },
  "cells": [
    {
      "cell_type": "code",
      "metadata": {
        "id": "OLmz5g6bVPGa",
        "colab_type": "code",
        "outputId": "985cdab6-8581-482b-c4b6-a79894356128",
        "colab": {
          "base_uri": "https://localhost:8080/",
          "height": 122
        }
      },
      "source": [
        "import pandas as pd\n",
        "import numpy as np\n",
        "import matplotlib.pyplot as plt\n",
        "import seaborn as sns\n",
        "from sklearn.model_selection import train_test_split,RandomizedSearchCV, GridSearchCV\n",
        "# machine learning\n",
        "from sklearn.svm import SVC\n",
        "from sklearn.ensemble import RandomForestClassifier\n",
        "from xgboost import XGBClassifier\n",
        "from sklearn import tree\n",
        "import pickle\n",
        "from scipy.stats import uniform, randint\n",
        "from sklearn.metrics import f1_score\n",
        "\n",
        "# Load the Drive helper and mount\n",
        "from google.colab import drive\n",
        "from google.colab import files\n",
        "\n",
        "# This will prompt for authorization.\n",
        "drive.mount('/content/drive')\n",
        "\n",
        "from tqdm import tqdm\n",
        "tqdm.pandas()\n",
        "import logging\n",
        "logging.basicConfig(format='%(asctime)s : %(levelname)s : %(message)s', level=logging.INFO)"
      ],
      "execution_count": 1,
      "outputs": [
        {
          "output_type": "stream",
          "text": [
            "Go to this URL in a browser: https://accounts.google.com/o/oauth2/auth?client_id=947318989803-6bn6qk8qdgf4n4g3pfee6491hc0brc4i.apps.googleusercontent.com&redirect_uri=urn%3Aietf%3Awg%3Aoauth%3A2.0%3Aoob&scope=email%20https%3A%2F%2Fwww.googleapis.com%2Fauth%2Fdocs.test%20https%3A%2F%2Fwww.googleapis.com%2Fauth%2Fdrive%20https%3A%2F%2Fwww.googleapis.com%2Fauth%2Fdrive.photos.readonly%20https%3A%2F%2Fwww.googleapis.com%2Fauth%2Fpeopleapi.readonly&response_type=code\n",
            "\n",
            "Enter your authorization code:\n",
            "··········\n",
            "Mounted at /content/drive\n"
          ],
          "name": "stdout"
        }
      ]
    },
    {
      "cell_type": "code",
      "metadata": {
        "id": "EBBaa2mMVWst",
        "colab_type": "code",
        "outputId": "aa608c8f-dc3f-443a-a989-27e426fba4c4",
        "colab": {
          "base_uri": "https://localhost:8080/",
          "height": 562
        }
      },
      "source": [
        "!pip install h2o -q\n",
        "import h2o\n",
        "from h2o.automl import H2OAutoML\n",
        "h2o.init()"
      ],
      "execution_count": 2,
      "outputs": [
        {
          "output_type": "stream",
          "text": [
            "\u001b[K     |████████████████████████████████| 123.6MB 276kB/s \n",
            "\u001b[?25h  Building wheel for h2o (setup.py) ... \u001b[?25l\u001b[?25hdone\n",
            "Checking whether there is an H2O instance running at http://localhost:54321 ..... not found.\n",
            "Attempting to start a local H2O server...\n",
            "  Java Version: openjdk version \"11.0.4\" 2019-07-16; OpenJDK Runtime Environment (build 11.0.4+11-post-Ubuntu-1ubuntu218.04.3); OpenJDK 64-Bit Server VM (build 11.0.4+11-post-Ubuntu-1ubuntu218.04.3, mixed mode, sharing)\n",
            "  Starting server from /usr/local/lib/python3.6/dist-packages/h2o/backend/bin/h2o.jar\n",
            "  Ice root: /tmp/tmpfi1fvjxu\n",
            "  JVM stdout: /tmp/tmpfi1fvjxu/h2o_unknownUser_started_from_python.out\n",
            "  JVM stderr: /tmp/tmpfi1fvjxu/h2o_unknownUser_started_from_python.err\n",
            "  Server is running at http://127.0.0.1:54321\n",
            "Connecting to H2O server at http://127.0.0.1:54321 ... successful.\n"
          ],
          "name": "stdout"
        },
        {
          "output_type": "display_data",
          "data": {
            "text/html": [
              "<div style=\"overflow:auto\"><table style=\"width:50%\"><tr><td>H2O cluster uptime:</td>\n",
              "<td>02 secs</td></tr>\n",
              "<tr><td>H2O cluster timezone:</td>\n",
              "<td>Etc/UTC</td></tr>\n",
              "<tr><td>H2O data parsing timezone:</td>\n",
              "<td>UTC</td></tr>\n",
              "<tr><td>H2O cluster version:</td>\n",
              "<td>3.26.0.3</td></tr>\n",
              "<tr><td>H2O cluster version age:</td>\n",
              "<td>9 days </td></tr>\n",
              "<tr><td>H2O cluster name:</td>\n",
              "<td>H2O_from_python_unknownUser_eih9se</td></tr>\n",
              "<tr><td>H2O cluster total nodes:</td>\n",
              "<td>1</td></tr>\n",
              "<tr><td>H2O cluster free memory:</td>\n",
              "<td>2.938 Gb</td></tr>\n",
              "<tr><td>H2O cluster total cores:</td>\n",
              "<td>2</td></tr>\n",
              "<tr><td>H2O cluster allowed cores:</td>\n",
              "<td>2</td></tr>\n",
              "<tr><td>H2O cluster status:</td>\n",
              "<td>accepting new members, healthy</td></tr>\n",
              "<tr><td>H2O connection url:</td>\n",
              "<td>http://127.0.0.1:54321</td></tr>\n",
              "<tr><td>H2O connection proxy:</td>\n",
              "<td>None</td></tr>\n",
              "<tr><td>H2O internal security:</td>\n",
              "<td>False</td></tr>\n",
              "<tr><td>H2O API Extensions:</td>\n",
              "<td>Amazon S3, XGBoost, Algos, AutoML, Core V3, Core V4</td></tr>\n",
              "<tr><td>Python version:</td>\n",
              "<td>3.6.8 final</td></tr></table></div>"
            ],
            "text/plain": [
              "--------------------------  ---------------------------------------------------\n",
              "H2O cluster uptime:         02 secs\n",
              "H2O cluster timezone:       Etc/UTC\n",
              "H2O data parsing timezone:  UTC\n",
              "H2O cluster version:        3.26.0.3\n",
              "H2O cluster version age:    9 days\n",
              "H2O cluster name:           H2O_from_python_unknownUser_eih9se\n",
              "H2O cluster total nodes:    1\n",
              "H2O cluster free memory:    2.938 Gb\n",
              "H2O cluster total cores:    2\n",
              "H2O cluster allowed cores:  2\n",
              "H2O cluster status:         accepting new members, healthy\n",
              "H2O connection url:         http://127.0.0.1:54321\n",
              "H2O connection proxy:\n",
              "H2O internal security:      False\n",
              "H2O API Extensions:         Amazon S3, XGBoost, Algos, AutoML, Core V3, Core V4\n",
              "Python version:             3.6.8 final\n",
              "--------------------------  ---------------------------------------------------"
            ]
          },
          "metadata": {
            "tags": []
          }
        }
      ]
    },
    {
      "cell_type": "markdown",
      "metadata": {
        "id": "OUQIloY7dHLe",
        "colab_type": "text"
      },
      "source": [
        "## Prepare Data for H2O"
      ]
    },
    {
      "cell_type": "code",
      "metadata": {
        "id": "8qS6BD2JXd-g",
        "colab_type": "code",
        "outputId": "157153c9-4ac9-4b12-b530-0ea200429559",
        "colab": {
          "base_uri": "https://localhost:8080/",
          "height": 34
        }
      },
      "source": [
        "data = h2o.import_file('drive/My Drive/Colab Notebooks/credit_scoring/data_preprocessing.csv')"
      ],
      "execution_count": 5,
      "outputs": [
        {
          "output_type": "stream",
          "text": [
            "Parse progress: |█████████████████████████████████████████████████████████| 100%\n"
          ],
          "name": "stdout"
        }
      ]
    },
    {
      "cell_type": "code",
      "metadata": {
        "id": "b_roKqEndKGR",
        "colab_type": "code",
        "colab": {}
      },
      "source": [
        "# Identify predictors and response\n",
        "x = data.columns\n",
        "y = \"CREDIT_SCORE\"\n",
        "x.remove(y)\n",
        "\n",
        "# For binary classification, response should be a factor\n",
        "data[y] = data[y].asfactor()"
      ],
      "execution_count": 0,
      "outputs": []
    },
    {
      "cell_type": "markdown",
      "metadata": {
        "id": "O-DZ2YvLGx-n",
        "colab_type": "text"
      },
      "source": [
        "## Split data for training and testing"
      ]
    },
    {
      "cell_type": "code",
      "metadata": {
        "id": "TqpjOGzIWV2d",
        "colab_type": "code",
        "colab": {}
      },
      "source": [
        "# Split the data into Train/Test with Train having 80% and test having 20%\n",
        "train, test = data.split_frame(ratios=[.80])"
      ],
      "execution_count": 0,
      "outputs": []
    },
    {
      "cell_type": "markdown",
      "metadata": {
        "id": "9L8CbNr8W4qr",
        "colab_type": "text"
      },
      "source": [
        "## Run AutoML H2O\n",
        "Run AutoML, stopping after 10 models. The max_models argument specifies the number of individual (or \"base\") models, and does not include the two ensemble models that are trained at the end."
      ]
    },
    {
      "cell_type": "code",
      "metadata": {
        "id": "HxKwcjpEWx4S",
        "colab_type": "code",
        "outputId": "39388ad5-a6b0-442a-b8c4-7928e2c72553",
        "colab": {
          "base_uri": "https://localhost:8080/",
          "height": 34
        }
      },
      "source": [
        "aml = H2OAutoML(max_models = 25, nfolds = 4, balance_classes = True, sort_metric = \"auc\", seed = 1)\n",
        "aml.train(x = x, y = y, training_frame = train)"
      ],
      "execution_count": 8,
      "outputs": [
        {
          "output_type": "stream",
          "text": [
            "AutoML progress: |████████████████████████████████████████████████████████| 100%\n"
          ],
          "name": "stdout"
        }
      ]
    },
    {
      "cell_type": "markdown",
      "metadata": {
        "id": "4VyWBHR9dzn1",
        "colab_type": "text"
      },
      "source": [
        "## Leaderboard\n",
        "Next, we will view the AutoML Leaderboard. Since we did not specify a leaderboard_frame in the H2OAutoML.train() method for scoring and ranking the models, the AutoML leaderboard uses cross-validation metrics to rank the models.\n",
        "\n",
        "A default performance metric for each machine learning task (binary classification, multiclass classification, regression) is specified internally and the leaderboard will be sorted by that metric. In the case of binary classification, the default ranking metric is Area Under the ROC Curve (AUC). In the future, the user will be able to specify any of the H2O metrics so that different metrics can be used to generate rankings on the leaderboard.\n",
        "\n",
        "The leader model is stored at aml.leader and the leaderboard is stored at aml.leaderboard."
      ]
    },
    {
      "cell_type": "code",
      "metadata": {
        "id": "tnKVRtKWb-_X",
        "colab_type": "code",
        "colab": {}
      },
      "source": [
        "lb = aml.leaderboard"
      ],
      "execution_count": 0,
      "outputs": []
    },
    {
      "cell_type": "code",
      "metadata": {
        "id": "StMl2Toxd96P",
        "colab_type": "code",
        "outputId": "4152e461-5285-4f14-a421-23d580fbefae",
        "colab": {
          "base_uri": "https://localhost:8080/",
          "height": 250
        }
      },
      "source": [
        "lb.head()"
      ],
      "execution_count": 10,
      "outputs": [
        {
          "output_type": "display_data",
          "data": {
            "text/html": [
              "<table>\n",
              "<thead>\n",
              "<tr><th>model_id                                           </th><th style=\"text-align: right;\">     auc</th><th style=\"text-align: right;\">  logloss</th><th style=\"text-align: right;\">  mean_per_class_error</th><th style=\"text-align: right;\">    rmse</th><th style=\"text-align: right;\">     mse</th></tr>\n",
              "</thead>\n",
              "<tbody>\n",
              "<tr><td>StackedEnsemble_BestOfFamily_AutoML_20190902_034555</td><td style=\"text-align: right;\">0.789073</td><td style=\"text-align: right;\"> 0.495632</td><td style=\"text-align: right;\">              0.284316</td><td style=\"text-align: right;\">0.405924</td><td style=\"text-align: right;\">0.164774</td></tr>\n",
              "<tr><td>StackedEnsemble_AllModels_AutoML_20190902_034555   </td><td style=\"text-align: right;\">0.784824</td><td style=\"text-align: right;\"> 0.498941</td><td style=\"text-align: right;\">              0.286719</td><td style=\"text-align: right;\">0.407741</td><td style=\"text-align: right;\">0.166252</td></tr>\n",
              "<tr><td>XGBoost_grid_1_AutoML_20190902_034555_model_2      </td><td style=\"text-align: right;\">0.781464</td><td style=\"text-align: right;\"> 0.496453</td><td style=\"text-align: right;\">              0.282444</td><td style=\"text-align: right;\">0.407255</td><td style=\"text-align: right;\">0.165857</td></tr>\n",
              "<tr><td>XGBoost_grid_1_AutoML_20190902_034555_model_4      </td><td style=\"text-align: right;\">0.780974</td><td style=\"text-align: right;\"> 0.499799</td><td style=\"text-align: right;\">              0.283785</td><td style=\"text-align: right;\">0.408724</td><td style=\"text-align: right;\">0.167055</td></tr>\n",
              "<tr><td>GBM_2_AutoML_20190902_034555                       </td><td style=\"text-align: right;\">0.779207</td><td style=\"text-align: right;\"> 0.511774</td><td style=\"text-align: right;\">              0.282975</td><td style=\"text-align: right;\">0.411639</td><td style=\"text-align: right;\">0.169447</td></tr>\n",
              "<tr><td>XGBoost_3_AutoML_20190902_034555                   </td><td style=\"text-align: right;\">0.77874 </td><td style=\"text-align: right;\"> 0.499664</td><td style=\"text-align: right;\">              0.286651</td><td style=\"text-align: right;\">0.40851 </td><td style=\"text-align: right;\">0.16688 </td></tr>\n",
              "<tr><td>GBM_grid_1_AutoML_20190902_034555_model_3          </td><td style=\"text-align: right;\">0.7769  </td><td style=\"text-align: right;\"> 0.572612</td><td style=\"text-align: right;\">              0.286005</td><td style=\"text-align: right;\">0.440778</td><td style=\"text-align: right;\">0.194285</td></tr>\n",
              "<tr><td>GBM_3_AutoML_20190902_034555                       </td><td style=\"text-align: right;\">0.774332</td><td style=\"text-align: right;\"> 0.517364</td><td style=\"text-align: right;\">              0.284943</td><td style=\"text-align: right;\">0.415812</td><td style=\"text-align: right;\">0.1729  </td></tr>\n",
              "<tr><td>XGBoost_grid_1_AutoML_20190902_034555_model_6      </td><td style=\"text-align: right;\">0.773086</td><td style=\"text-align: right;\"> 0.511455</td><td style=\"text-align: right;\">              0.29523 </td><td style=\"text-align: right;\">0.414505</td><td style=\"text-align: right;\">0.171815</td></tr>\n",
              "<tr><td>DRF_1_AutoML_20190902_034555                       </td><td style=\"text-align: right;\">0.771388</td><td style=\"text-align: right;\"> 0.565469</td><td style=\"text-align: right;\">              0.279491</td><td style=\"text-align: right;\">0.419648</td><td style=\"text-align: right;\">0.176104</td></tr>\n",
              "</tbody>\n",
              "</table>"
            ]
          },
          "metadata": {
            "tags": []
          }
        },
        {
          "output_type": "execute_result",
          "data": {
            "text/plain": [
              ""
            ]
          },
          "metadata": {
            "tags": []
          },
          "execution_count": 10
        }
      ]
    },
    {
      "cell_type": "code",
      "metadata": {
        "id": "ba1eHkZ7eBCx",
        "colab_type": "code",
        "outputId": "68d0baa3-da16-40b3-f9c0-9b25cb3ddfb1",
        "colab": {
          "base_uri": "https://localhost:8080/",
          "height": 607
        }
      },
      "source": [
        "lb.head(rows=lb.nrows)"
      ],
      "execution_count": 11,
      "outputs": [
        {
          "output_type": "display_data",
          "data": {
            "text/html": [
              "<table>\n",
              "<thead>\n",
              "<tr><th>model_id                                           </th><th style=\"text-align: right;\">     auc</th><th style=\"text-align: right;\">  logloss</th><th style=\"text-align: right;\">  mean_per_class_error</th><th style=\"text-align: right;\">    rmse</th><th style=\"text-align: right;\">     mse</th></tr>\n",
              "</thead>\n",
              "<tbody>\n",
              "<tr><td>StackedEnsemble_BestOfFamily_AutoML_20190902_034555</td><td style=\"text-align: right;\">0.789073</td><td style=\"text-align: right;\"> 0.495632</td><td style=\"text-align: right;\">              0.284316</td><td style=\"text-align: right;\">0.405924</td><td style=\"text-align: right;\">0.164774</td></tr>\n",
              "<tr><td>StackedEnsemble_AllModels_AutoML_20190902_034555   </td><td style=\"text-align: right;\">0.784824</td><td style=\"text-align: right;\"> 0.498941</td><td style=\"text-align: right;\">              0.286719</td><td style=\"text-align: right;\">0.407741</td><td style=\"text-align: right;\">0.166252</td></tr>\n",
              "<tr><td>XGBoost_grid_1_AutoML_20190902_034555_model_2      </td><td style=\"text-align: right;\">0.781464</td><td style=\"text-align: right;\"> 0.496453</td><td style=\"text-align: right;\">              0.282444</td><td style=\"text-align: right;\">0.407255</td><td style=\"text-align: right;\">0.165857</td></tr>\n",
              "<tr><td>XGBoost_grid_1_AutoML_20190902_034555_model_4      </td><td style=\"text-align: right;\">0.780974</td><td style=\"text-align: right;\"> 0.499799</td><td style=\"text-align: right;\">              0.283785</td><td style=\"text-align: right;\">0.408724</td><td style=\"text-align: right;\">0.167055</td></tr>\n",
              "<tr><td>GBM_2_AutoML_20190902_034555                       </td><td style=\"text-align: right;\">0.779207</td><td style=\"text-align: right;\"> 0.511774</td><td style=\"text-align: right;\">              0.282975</td><td style=\"text-align: right;\">0.411639</td><td style=\"text-align: right;\">0.169447</td></tr>\n",
              "<tr><td>XGBoost_3_AutoML_20190902_034555                   </td><td style=\"text-align: right;\">0.77874 </td><td style=\"text-align: right;\"> 0.499664</td><td style=\"text-align: right;\">              0.286651</td><td style=\"text-align: right;\">0.40851 </td><td style=\"text-align: right;\">0.16688 </td></tr>\n",
              "<tr><td>GBM_grid_1_AutoML_20190902_034555_model_3          </td><td style=\"text-align: right;\">0.7769  </td><td style=\"text-align: right;\"> 0.572612</td><td style=\"text-align: right;\">              0.286005</td><td style=\"text-align: right;\">0.440778</td><td style=\"text-align: right;\">0.194285</td></tr>\n",
              "<tr><td>GBM_3_AutoML_20190902_034555                       </td><td style=\"text-align: right;\">0.774332</td><td style=\"text-align: right;\"> 0.517364</td><td style=\"text-align: right;\">              0.284943</td><td style=\"text-align: right;\">0.415812</td><td style=\"text-align: right;\">0.1729  </td></tr>\n",
              "<tr><td>XGBoost_grid_1_AutoML_20190902_034555_model_6      </td><td style=\"text-align: right;\">0.773086</td><td style=\"text-align: right;\"> 0.511455</td><td style=\"text-align: right;\">              0.29523 </td><td style=\"text-align: right;\">0.414505</td><td style=\"text-align: right;\">0.171815</td></tr>\n",
              "<tr><td>DRF_1_AutoML_20190902_034555                       </td><td style=\"text-align: right;\">0.771388</td><td style=\"text-align: right;\"> 0.565469</td><td style=\"text-align: right;\">              0.279491</td><td style=\"text-align: right;\">0.419648</td><td style=\"text-align: right;\">0.176104</td></tr>\n",
              "<tr><td>XRT_1_AutoML_20190902_034555                       </td><td style=\"text-align: right;\">0.770482</td><td style=\"text-align: right;\"> 0.525843</td><td style=\"text-align: right;\">              0.293165</td><td style=\"text-align: right;\">0.420372</td><td style=\"text-align: right;\">0.176712</td></tr>\n",
              "<tr><td>XGBoost_1_AutoML_20190902_034555                   </td><td style=\"text-align: right;\">0.770472</td><td style=\"text-align: right;\"> 0.508992</td><td style=\"text-align: right;\">              0.292923</td><td style=\"text-align: right;\">0.412971</td><td style=\"text-align: right;\">0.170545</td></tr>\n",
              "<tr><td>GBM_1_AutoML_20190902_034555                       </td><td style=\"text-align: right;\">0.770033</td><td style=\"text-align: right;\"> 0.528562</td><td style=\"text-align: right;\">              0.287347</td><td style=\"text-align: right;\">0.419337</td><td style=\"text-align: right;\">0.175843</td></tr>\n",
              "<tr><td>XGBoost_grid_1_AutoML_20190902_034555_model_1      </td><td style=\"text-align: right;\">0.768916</td><td style=\"text-align: right;\"> 0.516451</td><td style=\"text-align: right;\">              0.284943</td><td style=\"text-align: right;\">0.415066</td><td style=\"text-align: right;\">0.17228 </td></tr>\n",
              "<tr><td>XGBoost_grid_1_AutoML_20190902_034555_model_3      </td><td style=\"text-align: right;\">0.765904</td><td style=\"text-align: right;\"> 0.51332 </td><td style=\"text-align: right;\">              0.30043 </td><td style=\"text-align: right;\">0.413837</td><td style=\"text-align: right;\">0.171261</td></tr>\n",
              "<tr><td>GBM_grid_1_AutoML_20190902_034555_model_2          </td><td style=\"text-align: right;\">0.765396</td><td style=\"text-align: right;\"> 0.572199</td><td style=\"text-align: right;\">              0.307956</td><td style=\"text-align: right;\">0.440743</td><td style=\"text-align: right;\">0.194254</td></tr>\n",
              "<tr><td>XGBoost_2_AutoML_20190902_034555                   </td><td style=\"text-align: right;\">0.764668</td><td style=\"text-align: right;\"> 0.515944</td><td style=\"text-align: right;\">              0.298828</td><td style=\"text-align: right;\">0.415526</td><td style=\"text-align: right;\">0.172662</td></tr>\n",
              "<tr><td>GBM_4_AutoML_20190902_034555                       </td><td style=\"text-align: right;\">0.763509</td><td style=\"text-align: right;\"> 0.535368</td><td style=\"text-align: right;\">              0.286468</td><td style=\"text-align: right;\">0.422055</td><td style=\"text-align: right;\">0.17813 </td></tr>\n",
              "<tr><td>GBM_5_AutoML_20190902_034555                       </td><td style=\"text-align: right;\">0.761866</td><td style=\"text-align: right;\"> 0.51458 </td><td style=\"text-align: right;\">              0.297565</td><td style=\"text-align: right;\">0.415606</td><td style=\"text-align: right;\">0.172728</td></tr>\n",
              "<tr><td>XGBoost_grid_1_AutoML_20190902_034555_model_5      </td><td style=\"text-align: right;\">0.748856</td><td style=\"text-align: right;\"> 0.533496</td><td style=\"text-align: right;\">              0.3051  </td><td style=\"text-align: right;\">0.423129</td><td style=\"text-align: right;\">0.179038</td></tr>\n",
              "<tr><td>GBM_grid_1_AutoML_20190902_034555_model_4          </td><td style=\"text-align: right;\">0.731661</td><td style=\"text-align: right;\"> 0.852465</td><td style=\"text-align: right;\">              0.32554 </td><td style=\"text-align: right;\">0.46135 </td><td style=\"text-align: right;\">0.212844</td></tr>\n",
              "<tr><td>DeepLearning_grid_1_AutoML_20190902_034555_model_3 </td><td style=\"text-align: right;\">0.711614</td><td style=\"text-align: right;\"> 0.583893</td><td style=\"text-align: right;\">              0.323077</td><td style=\"text-align: right;\">0.43565 </td><td style=\"text-align: right;\">0.189791</td></tr>\n",
              "<tr><td>GLM_grid_1_AutoML_20190902_034555_model_1          </td><td style=\"text-align: right;\">0.710277</td><td style=\"text-align: right;\"> 0.555076</td><td style=\"text-align: right;\">              0.329244</td><td style=\"text-align: right;\">0.43384 </td><td style=\"text-align: right;\">0.188217</td></tr>\n",
              "<tr><td>DeepLearning_grid_1_AutoML_20190902_034555_model_2 </td><td style=\"text-align: right;\">0.69968 </td><td style=\"text-align: right;\"> 0.659035</td><td style=\"text-align: right;\">              0.358327</td><td style=\"text-align: right;\">0.448302</td><td style=\"text-align: right;\">0.200974</td></tr>\n",
              "<tr><td>DeepLearning_1_AutoML_20190902_034555              </td><td style=\"text-align: right;\">0.678369</td><td style=\"text-align: right;\"> 0.636199</td><td style=\"text-align: right;\">              0.341856</td><td style=\"text-align: right;\">0.459219</td><td style=\"text-align: right;\">0.210882</td></tr>\n",
              "<tr><td>DeepLearning_grid_1_AutoML_20190902_034555_model_1 </td><td style=\"text-align: right;\">0.664787</td><td style=\"text-align: right;\"> 0.828885</td><td style=\"text-align: right;\">              0.344607</td><td style=\"text-align: right;\">0.474403</td><td style=\"text-align: right;\">0.225058</td></tr>\n",
              "<tr><td>GBM_grid_1_AutoML_20190902_034555_model_1          </td><td style=\"text-align: right;\">0.601213</td><td style=\"text-align: right;\"> 0.606877</td><td style=\"text-align: right;\">              0.454262</td><td style=\"text-align: right;\">0.456304</td><td style=\"text-align: right;\">0.208214</td></tr>\n",
              "</tbody>\n",
              "</table>"
            ]
          },
          "metadata": {
            "tags": []
          }
        },
        {
          "output_type": "execute_result",
          "data": {
            "text/plain": [
              ""
            ]
          },
          "metadata": {
            "tags": []
          },
          "execution_count": 11
        }
      ]
    },
    {
      "cell_type": "markdown",
      "metadata": {
        "id": "JIzZM6fdJgXf",
        "colab_type": "text"
      },
      "source": [
        "## Ensemble Exploration\n",
        "To understand how the ensemble works, let's take a peek inside the Stacked Ensemble \"All Models\" model. The \"All Models\" ensemble is an ensemble of all of the individual models in the AutoML run. This is often the top performing model on the leaderboard."
      ]
    },
    {
      "cell_type": "code",
      "metadata": {
        "id": "aL0X3B1Ve_ah",
        "colab_type": "code",
        "colab": {}
      },
      "source": [
        "# Get model ids for all models in the AutoML Leaderboard\n",
        "model_ids = list(aml.leaderboard['model_id'].as_data_frame().iloc[:,0])\n",
        "# Get the \"All Models\" Stacked Ensemble model\n",
        "se = h2o.get_model([mid for mid in model_ids if \"StackedEnsemble_AllModels\" in mid][0])\n",
        "# Get the Stacked Ensemble metalearner model\n",
        "metalearner = h2o.get_model(se.metalearner()['name'])"
      ],
      "execution_count": 0,
      "outputs": []
    },
    {
      "cell_type": "markdown",
      "metadata": {
        "id": "ontmbme3Jsu_",
        "colab_type": "text"
      },
      "source": [
        "\n",
        "Examine the variable importance of the metalearner (combiner) algorithm in the ensemble. This shows us how much each base learner is contributing to the ensemble. The AutoML Stacked Ensembles use the default metalearner algorithm (GLM with non-negative weights), so the variable importance of the metalearner is actually the standardized coefficient magnitudes of the GLM."
      ]
    },
    {
      "cell_type": "code",
      "metadata": {
        "id": "aKsnkYwXJpvQ",
        "colab_type": "code",
        "outputId": "383af179-7ffb-4c81-d221-37458ec39085",
        "colab": {
          "base_uri": "https://localhost:8080/",
          "height": 459
        }
      },
      "source": [
        "metalearner.coef_norm()"
      ],
      "execution_count": 13,
      "outputs": [
        {
          "output_type": "execute_result",
          "data": {
            "text/plain": [
              "{'DRF_1_AutoML_20190902_034555': 0.0,\n",
              " 'DeepLearning_1_AutoML_20190902_034555': 0.0,\n",
              " 'DeepLearning_grid_1_AutoML_20190902_034555_model_1': 0.0,\n",
              " 'DeepLearning_grid_1_AutoML_20190902_034555_model_2': 0.018201987855039306,\n",
              " 'DeepLearning_grid_1_AutoML_20190902_034555_model_3': 0.3199181040942677,\n",
              " 'GBM_1_AutoML_20190902_034555': 0.0,\n",
              " 'GBM_2_AutoML_20190902_034555': 0.2747059825890456,\n",
              " 'GBM_3_AutoML_20190902_034555': 0.0,\n",
              " 'GBM_4_AutoML_20190902_034555': 0.0,\n",
              " 'GBM_5_AutoML_20190902_034555': 0.06049438063806844,\n",
              " 'GBM_grid_1_AutoML_20190902_034555_model_1': 0.0,\n",
              " 'GBM_grid_1_AutoML_20190902_034555_model_2': 0.0,\n",
              " 'GBM_grid_1_AutoML_20190902_034555_model_3': 0.36463791026339204,\n",
              " 'GBM_grid_1_AutoML_20190902_034555_model_4': 0.10298705172385939,\n",
              " 'GLM_grid_1_AutoML_20190902_034555_model_1': 0.0,\n",
              " 'Intercept': -1.1204889255797144,\n",
              " 'XGBoost_1_AutoML_20190902_034555': 0.0,\n",
              " 'XGBoost_2_AutoML_20190902_034555': 0.09718155960411705,\n",
              " 'XGBoost_3_AutoML_20190902_034555': 0.0,\n",
              " 'XGBoost_grid_1_AutoML_20190902_034555_model_1': 0.0,\n",
              " 'XGBoost_grid_1_AutoML_20190902_034555_model_2': 0.21174945637029033,\n",
              " 'XGBoost_grid_1_AutoML_20190902_034555_model_3': 0.0,\n",
              " 'XGBoost_grid_1_AutoML_20190902_034555_model_4': 0.0,\n",
              " 'XGBoost_grid_1_AutoML_20190902_034555_model_5': 0.0,\n",
              " 'XGBoost_grid_1_AutoML_20190902_034555_model_6': 0.0,\n",
              " 'XRT_1_AutoML_20190902_034555': 0.0}"
            ]
          },
          "metadata": {
            "tags": []
          },
          "execution_count": 13
        }
      ]
    },
    {
      "cell_type": "code",
      "metadata": {
        "id": "4w0kUJsBJuzN",
        "colab_type": "code",
        "outputId": "74b8d403-28c5-4cf1-9b9a-6c6e5cb20e03",
        "colab": {
          "base_uri": "https://localhost:8080/",
          "height": 663
        }
      },
      "source": [
        "%matplotlib inline\n",
        "metalearner.std_coef_plot()"
      ],
      "execution_count": 14,
      "outputs": [
        {
          "output_type": "stream",
          "text": [
            "/usr/local/lib/python3.6/dist-packages/matplotlib/cbook/__init__.py:424: MatplotlibDeprecationWarning: \n",
            "Passing one of 'on', 'true', 'off', 'false' as a boolean is deprecated; use an actual boolean (True/False) instead.\n",
            "  warn_deprecated(\"2.2\", \"Passing one of 'on', 'true', 'off', 'false' as a \"\n"
          ],
          "name": "stderr"
        },
        {
          "output_type": "display_data",
          "data": {
            "image/png": "[encoded data removed]",
            "text/plain": [
              "<Figure size 1008x720 with 1 Axes>"
            ]
          },
          "metadata": {
            "tags": []
          }
        }
      ]
    },
    {
      "cell_type": "markdown",
      "metadata": {
        "id": "7P842L7vKDCl",
        "colab_type": "text"
      },
      "source": [
        "## Save Leader Model\n",
        "There are two ways to save the leader model -- binary format and MOJO format. If you're taking your leader model to production, then we'd suggest the MOJO format since it's optimized for production use."
      ]
    },
    {
      "cell_type": "code",
      "metadata": {
        "id": "stFkrEIfJ2hJ",
        "colab_type": "code",
        "outputId": "a9dff4d5-aab7-4af4-aab2-0639ea5f54e3",
        "colab": {
          "base_uri": "https://localhost:8080/",
          "height": 34
        }
      },
      "source": [
        "# Save binary format\n",
        "h2o.save_model(aml.leader, path = \"./product_backorders_model_bin\")"
      ],
      "execution_count": 15,
      "outputs": [
        {
          "output_type": "execute_result",
          "data": {
            "text/plain": [
              "'/content/product_backorders_model_bin/StackedEnsemble_BestOfFamily_AutoML_20190902_034555'"
            ]
          },
          "metadata": {
            "tags": []
          },
          "execution_count": 15
        }
      ]
    },
    {
      "cell_type": "code",
      "metadata": {
        "id": "as6EmR43KS28",
        "colab_type": "code",
        "outputId": "4f12aab7-1766-43e5-fc2a-cc751c777be7",
        "colab": {
          "base_uri": "https://localhost:8080/",
          "height": 34
        }
      },
      "source": [
        "# Save MOJO format\n",
        "aml.leader.download_mojo(path = \"./\")"
      ],
      "execution_count": 16,
      "outputs": [
        {
          "output_type": "execute_result",
          "data": {
            "text/plain": [
              "'/content/StackedEnsemble_BestOfFamily_AutoML_20190902_034555.zip'"
            ]
          },
          "metadata": {
            "tags": []
          },
          "execution_count": 16
        }
      ]
    },
    {
      "cell_type": "markdown",
      "metadata": {
        "id": "Vw5vDfG5LvGM",
        "colab_type": "text"
      },
      "source": [
        "# Predict"
      ]
    },
    {
      "cell_type": "code",
      "metadata": {
        "id": "JRMQ7jmiL0By",
        "colab_type": "code",
        "outputId": "a2212cbc-145a-46d1-82a1-e36e2acb7f08",
        "colab": {
          "base_uri": "https://localhost:8080/",
          "height": 34
        }
      },
      "source": [
        "preds = aml.leader.predict(test[x])"
      ],
      "execution_count": 17,
      "outputs": [
        {
          "output_type": "stream",
          "text": [
            "stackedensemble prediction progress: |████████████████████████████████████| 100%\n"
          ],
          "name": "stdout"
        }
      ]
    },
    {
      "cell_type": "code",
      "metadata": {
        "id": "jhPJA8LwQhGj",
        "colab_type": "code",
        "outputId": "9ddfb8a5-9c25-4aba-9291-1b683a897a91",
        "colab": {
          "base_uri": "https://localhost:8080/",
          "height": 1000
        }
      },
      "source": [
        "# Performance model\n",
        "aml.leader.model_performance() "
      ],
      "execution_count": 18,
      "outputs": [
        {
          "output_type": "stream",
          "text": [
            "\n",
            "ModelMetricsBinomialGLM: stackedensemble\n",
            "** Reported on train data. **\n",
            "\n",
            "MSE: 0.043910554420838195\n",
            "RMSE: 0.209548453635044\n",
            "LogLoss: 0.19867378839068411\n",
            "Null degrees of freedom: 722\n",
            "Residual degrees of freedom: 718\n",
            "Null deviance: 880.06623240694\n",
            "Residual deviance: 287.2822980129293\n",
            "AIC: 297.2822980129293\n",
            "AUC: 0.9958890313129463\n",
            "pr_auc: 0.9853657829065264\n",
            "Gini: 0.9917780626258925\n",
            "\n",
            "Confusion Matrix (Act/Pred) for max f1 @ threshold = 0.47897425717561254: "
          ],
          "name": "stdout"
        },
        {
          "output_type": "display_data",
          "data": {
            "text/html": [
              "<div>\n",
              "<style scoped>\n",
              "    .dataframe tbody tr th:only-of-type {\n",
              "        vertical-align: middle;\n",
              "    }\n",
              "\n",
              "    .dataframe tbody tr th {\n",
              "        vertical-align: top;\n",
              "    }\n",
              "\n",
              "    .dataframe thead th {\n",
              "        text-align: right;\n",
              "    }\n",
              "</style>\n",
              "<table border=\"1\" class=\"dataframe\">\n",
              "  <thead>\n",
              "    <tr style=\"text-align: right;\">\n",
              "      <th></th>\n",
              "      <th></th>\n",
              "      <th>1</th>\n",
              "      <th>2</th>\n",
              "      <th>Error</th>\n",
              "      <th>Rate</th>\n",
              "    </tr>\n",
              "  </thead>\n",
              "  <tbody>\n",
              "    <tr>\n",
              "      <th>0</th>\n",
              "      <td>1</td>\n",
              "      <td>501.0</td>\n",
              "      <td>7.0</td>\n",
              "      <td>0.0138</td>\n",
              "      <td>(7.0/508.0)</td>\n",
              "    </tr>\n",
              "    <tr>\n",
              "      <th>1</th>\n",
              "      <td>2</td>\n",
              "      <td>12.0</td>\n",
              "      <td>203.0</td>\n",
              "      <td>0.0558</td>\n",
              "      <td>(12.0/215.0)</td>\n",
              "    </tr>\n",
              "    <tr>\n",
              "      <th>2</th>\n",
              "      <td>Total</td>\n",
              "      <td>513.0</td>\n",
              "      <td>210.0</td>\n",
              "      <td>0.0263</td>\n",
              "      <td>(19.0/723.0)</td>\n",
              "    </tr>\n",
              "  </tbody>\n",
              "</table>\n",
              "</div>"
            ],
            "text/plain": [
              "              1      2   Error           Rate\n",
              "0      1  501.0    7.0  0.0138    (7.0/508.0)\n",
              "1      2   12.0  203.0  0.0558   (12.0/215.0)\n",
              "2  Total  513.0  210.0  0.0263   (19.0/723.0)"
            ]
          },
          "metadata": {
            "tags": []
          }
        },
        {
          "output_type": "stream",
          "text": [
            "\n",
            "Maximum Metrics: Maximum metrics at their respective thresholds\n"
          ],
          "name": "stdout"
        },
        {
          "output_type": "display_data",
          "data": {
            "text/html": [
              "<div>\n",
              "<style scoped>\n",
              "    .dataframe tbody tr th:only-of-type {\n",
              "        vertical-align: middle;\n",
              "    }\n",
              "\n",
              "    .dataframe tbody tr th {\n",
              "        vertical-align: top;\n",
              "    }\n",
              "\n",
              "    .dataframe thead th {\n",
              "        text-align: right;\n",
              "    }\n",
              "</style>\n",
              "<table border=\"1\" class=\"dataframe\">\n",
              "  <thead>\n",
              "    <tr style=\"text-align: right;\">\n",
              "      <th></th>\n",
              "      <th>metric</th>\n",
              "      <th>threshold</th>\n",
              "      <th>value</th>\n",
              "      <th>idx</th>\n",
              "    </tr>\n",
              "  </thead>\n",
              "  <tbody>\n",
              "    <tr>\n",
              "      <th>0</th>\n",
              "      <td>max f1</td>\n",
              "      <td>0.478974</td>\n",
              "      <td>0.955294</td>\n",
              "      <td>158.0</td>\n",
              "    </tr>\n",
              "    <tr>\n",
              "      <th>1</th>\n",
              "      <td>max f2</td>\n",
              "      <td>0.318461</td>\n",
              "      <td>0.970962</td>\n",
              "      <td>187.0</td>\n",
              "    </tr>\n",
              "    <tr>\n",
              "      <th>2</th>\n",
              "      <td>max f0point5</td>\n",
              "      <td>0.509346</td>\n",
              "      <td>0.964661</td>\n",
              "      <td>156.0</td>\n",
              "    </tr>\n",
              "    <tr>\n",
              "      <th>3</th>\n",
              "      <td>max accuracy</td>\n",
              "      <td>0.509346</td>\n",
              "      <td>0.973721</td>\n",
              "      <td>156.0</td>\n",
              "    </tr>\n",
              "    <tr>\n",
              "      <th>4</th>\n",
              "      <td>max precision</td>\n",
              "      <td>0.938461</td>\n",
              "      <td>1.000000</td>\n",
              "      <td>0.0</td>\n",
              "    </tr>\n",
              "    <tr>\n",
              "      <th>5</th>\n",
              "      <td>max recall</td>\n",
              "      <td>0.240140</td>\n",
              "      <td>1.000000</td>\n",
              "      <td>208.0</td>\n",
              "    </tr>\n",
              "    <tr>\n",
              "      <th>6</th>\n",
              "      <td>max specificity</td>\n",
              "      <td>0.938461</td>\n",
              "      <td>1.000000</td>\n",
              "      <td>0.0</td>\n",
              "    </tr>\n",
              "    <tr>\n",
              "      <th>7</th>\n",
              "      <td>max absolute_mcc</td>\n",
              "      <td>0.478974</td>\n",
              "      <td>0.936819</td>\n",
              "      <td>158.0</td>\n",
              "    </tr>\n",
              "    <tr>\n",
              "      <th>8</th>\n",
              "      <td>max min_per_class_accuracy</td>\n",
              "      <td>0.418176</td>\n",
              "      <td>0.967442</td>\n",
              "      <td>169.0</td>\n",
              "    </tr>\n",
              "    <tr>\n",
              "      <th>9</th>\n",
              "      <td>max mean_per_class_accuracy</td>\n",
              "      <td>0.333226</td>\n",
              "      <td>0.970743</td>\n",
              "      <td>184.0</td>\n",
              "    </tr>\n",
              "  </tbody>\n",
              "</table>\n",
              "</div>"
            ],
            "text/plain": [
              "                        metric  threshold     value    idx\n",
              "0                       max f1   0.478974  0.955294  158.0\n",
              "1                       max f2   0.318461  0.970962  187.0\n",
              "2                 max f0point5   0.509346  0.964661  156.0\n",
              "3                 max accuracy   0.509346  0.973721  156.0\n",
              "4                max precision   0.938461  1.000000    0.0\n",
              "5                   max recall   0.240140  1.000000  208.0\n",
              "6              max specificity   0.938461  1.000000    0.0\n",
              "7             max absolute_mcc   0.478974  0.936819  158.0\n",
              "8   max min_per_class_accuracy   0.418176  0.967442  169.0\n",
              "9  max mean_per_class_accuracy   0.333226  0.970743  184.0"
            ]
          },
          "metadata": {
            "tags": []
          }
        },
        {
          "output_type": "stream",
          "text": [
            "\n",
            "Gains/Lift Table: Avg response rate: 29.74 %, avg score: 31.82 %\n"
          ],
          "name": "stdout"
        },
        {
          "output_type": "display_data",
          "data": {
            "text/html": [
              "<div>\n",
              "<style scoped>\n",
              "    .dataframe tbody tr th:only-of-type {\n",
              "        vertical-align: middle;\n",
              "    }\n",
              "\n",
              "    .dataframe tbody tr th {\n",
              "        vertical-align: top;\n",
              "    }\n",
              "\n",
              "    .dataframe thead th {\n",
              "        text-align: right;\n",
              "    }\n",
              "</style>\n",
              "<table border=\"1\" class=\"dataframe\">\n",
              "  <thead>\n",
              "    <tr style=\"text-align: right;\">\n",
              "      <th></th>\n",
              "      <th></th>\n",
              "      <th>group</th>\n",
              "      <th>cumulative_data_fraction</th>\n",
              "      <th>lower_threshold</th>\n",
              "      <th>lift</th>\n",
              "      <th>cumulative_lift</th>\n",
              "      <th>response_rate</th>\n",
              "      <th>score</th>\n",
              "      <th>cumulative_response_rate</th>\n",
              "      <th>cumulative_score</th>\n",
              "      <th>capture_rate</th>\n",
              "      <th>cumulative_capture_rate</th>\n",
              "      <th>gain</th>\n",
              "      <th>cumulative_gain</th>\n",
              "    </tr>\n",
              "  </thead>\n",
              "  <tbody>\n",
              "    <tr>\n",
              "      <th>0</th>\n",
              "      <td></td>\n",
              "      <td>1</td>\n",
              "      <td>0.011065</td>\n",
              "      <td>0.926314</td>\n",
              "      <td>3.362791</td>\n",
              "      <td>3.362791</td>\n",
              "      <td>1.000000</td>\n",
              "      <td>0.931294</td>\n",
              "      <td>1.000000</td>\n",
              "      <td>0.931294</td>\n",
              "      <td>0.037209</td>\n",
              "      <td>0.037209</td>\n",
              "      <td>236.279070</td>\n",
              "      <td>236.279070</td>\n",
              "    </tr>\n",
              "    <tr>\n",
              "      <th>1</th>\n",
              "      <td></td>\n",
              "      <td>2</td>\n",
              "      <td>0.020747</td>\n",
              "      <td>0.907528</td>\n",
              "      <td>3.362791</td>\n",
              "      <td>3.362791</td>\n",
              "      <td>1.000000</td>\n",
              "      <td>0.913683</td>\n",
              "      <td>1.000000</td>\n",
              "      <td>0.923076</td>\n",
              "      <td>0.032558</td>\n",
              "      <td>0.069767</td>\n",
              "      <td>236.279070</td>\n",
              "      <td>236.279070</td>\n",
              "    </tr>\n",
              "    <tr>\n",
              "      <th>2</th>\n",
              "      <td></td>\n",
              "      <td>3</td>\n",
              "      <td>0.030429</td>\n",
              "      <td>0.895744</td>\n",
              "      <td>3.362791</td>\n",
              "      <td>3.362791</td>\n",
              "      <td>1.000000</td>\n",
              "      <td>0.900648</td>\n",
              "      <td>1.000000</td>\n",
              "      <td>0.915940</td>\n",
              "      <td>0.032558</td>\n",
              "      <td>0.102326</td>\n",
              "      <td>236.279070</td>\n",
              "      <td>236.279070</td>\n",
              "    </tr>\n",
              "    <tr>\n",
              "      <th>3</th>\n",
              "      <td></td>\n",
              "      <td>4</td>\n",
              "      <td>0.040111</td>\n",
              "      <td>0.888530</td>\n",
              "      <td>3.362791</td>\n",
              "      <td>3.362791</td>\n",
              "      <td>1.000000</td>\n",
              "      <td>0.892289</td>\n",
              "      <td>1.000000</td>\n",
              "      <td>0.910231</td>\n",
              "      <td>0.032558</td>\n",
              "      <td>0.134884</td>\n",
              "      <td>236.279070</td>\n",
              "      <td>236.279070</td>\n",
              "    </tr>\n",
              "    <tr>\n",
              "      <th>4</th>\n",
              "      <td></td>\n",
              "      <td>5</td>\n",
              "      <td>0.051176</td>\n",
              "      <td>0.875141</td>\n",
              "      <td>3.362791</td>\n",
              "      <td>3.362791</td>\n",
              "      <td>1.000000</td>\n",
              "      <td>0.885319</td>\n",
              "      <td>1.000000</td>\n",
              "      <td>0.904845</td>\n",
              "      <td>0.037209</td>\n",
              "      <td>0.172093</td>\n",
              "      <td>236.279070</td>\n",
              "      <td>236.279070</td>\n",
              "    </tr>\n",
              "    <tr>\n",
              "      <th>5</th>\n",
              "      <td></td>\n",
              "      <td>6</td>\n",
              "      <td>0.100968</td>\n",
              "      <td>0.832397</td>\n",
              "      <td>3.362791</td>\n",
              "      <td>3.362791</td>\n",
              "      <td>1.000000</td>\n",
              "      <td>0.857489</td>\n",
              "      <td>1.000000</td>\n",
              "      <td>0.881491</td>\n",
              "      <td>0.167442</td>\n",
              "      <td>0.339535</td>\n",
              "      <td>236.279070</td>\n",
              "      <td>236.279070</td>\n",
              "    </tr>\n",
              "    <tr>\n",
              "      <th>6</th>\n",
              "      <td></td>\n",
              "      <td>7</td>\n",
              "      <td>0.150761</td>\n",
              "      <td>0.785613</td>\n",
              "      <td>3.362791</td>\n",
              "      <td>3.362791</td>\n",
              "      <td>1.000000</td>\n",
              "      <td>0.807608</td>\n",
              "      <td>1.000000</td>\n",
              "      <td>0.857089</td>\n",
              "      <td>0.167442</td>\n",
              "      <td>0.506977</td>\n",
              "      <td>236.279070</td>\n",
              "      <td>236.279070</td>\n",
              "    </tr>\n",
              "    <tr>\n",
              "      <th>7</th>\n",
              "      <td></td>\n",
              "      <td>8</td>\n",
              "      <td>0.200553</td>\n",
              "      <td>0.733191</td>\n",
              "      <td>3.269380</td>\n",
              "      <td>3.339599</td>\n",
              "      <td>0.972222</td>\n",
              "      <td>0.763526</td>\n",
              "      <td>0.993103</td>\n",
              "      <td>0.833860</td>\n",
              "      <td>0.162791</td>\n",
              "      <td>0.669767</td>\n",
              "      <td>226.937984</td>\n",
              "      <td>233.959904</td>\n",
              "    </tr>\n",
              "    <tr>\n",
              "      <th>8</th>\n",
              "      <td></td>\n",
              "      <td>9</td>\n",
              "      <td>0.300138</td>\n",
              "      <td>0.454970</td>\n",
              "      <td>2.802326</td>\n",
              "      <td>3.161333</td>\n",
              "      <td>0.833333</td>\n",
              "      <td>0.609945</td>\n",
              "      <td>0.940092</td>\n",
              "      <td>0.759566</td>\n",
              "      <td>0.279070</td>\n",
              "      <td>0.948837</td>\n",
              "      <td>180.232558</td>\n",
              "      <td>216.133319</td>\n",
              "    </tr>\n",
              "    <tr>\n",
              "      <th>9</th>\n",
              "      <td></td>\n",
              "      <td>10</td>\n",
              "      <td>0.399723</td>\n",
              "      <td>0.214422</td>\n",
              "      <td>0.513760</td>\n",
              "      <td>2.501730</td>\n",
              "      <td>0.152778</td>\n",
              "      <td>0.299452</td>\n",
              "      <td>0.743945</td>\n",
              "      <td>0.644935</td>\n",
              "      <td>0.051163</td>\n",
              "      <td>1.000000</td>\n",
              "      <td>-48.624031</td>\n",
              "      <td>150.173010</td>\n",
              "    </tr>\n",
              "    <tr>\n",
              "      <th>10</th>\n",
              "      <td></td>\n",
              "      <td>11</td>\n",
              "      <td>0.500692</td>\n",
              "      <td>0.151856</td>\n",
              "      <td>0.000000</td>\n",
              "      <td>1.997238</td>\n",
              "      <td>0.000000</td>\n",
              "      <td>0.177634</td>\n",
              "      <td>0.593923</td>\n",
              "      <td>0.550701</td>\n",
              "      <td>0.000000</td>\n",
              "      <td>1.000000</td>\n",
              "      <td>-100.000000</td>\n",
              "      <td>99.723757</td>\n",
              "    </tr>\n",
              "    <tr>\n",
              "      <th>11</th>\n",
              "      <td></td>\n",
              "      <td>12</td>\n",
              "      <td>0.600277</td>\n",
              "      <td>0.108707</td>\n",
              "      <td>0.000000</td>\n",
              "      <td>1.665899</td>\n",
              "      <td>0.000000</td>\n",
              "      <td>0.127891</td>\n",
              "      <td>0.495392</td>\n",
              "      <td>0.480557</td>\n",
              "      <td>0.000000</td>\n",
              "      <td>1.000000</td>\n",
              "      <td>-100.000000</td>\n",
              "      <td>66.589862</td>\n",
              "    </tr>\n",
              "    <tr>\n",
              "      <th>12</th>\n",
              "      <td></td>\n",
              "      <td>13</td>\n",
              "      <td>0.699862</td>\n",
              "      <td>0.086852</td>\n",
              "      <td>0.000000</td>\n",
              "      <td>1.428854</td>\n",
              "      <td>0.000000</td>\n",
              "      <td>0.095725</td>\n",
              "      <td>0.424901</td>\n",
              "      <td>0.425798</td>\n",
              "      <td>0.000000</td>\n",
              "      <td>1.000000</td>\n",
              "      <td>-100.000000</td>\n",
              "      <td>42.885375</td>\n",
              "    </tr>\n",
              "    <tr>\n",
              "      <th>13</th>\n",
              "      <td></td>\n",
              "      <td>14</td>\n",
              "      <td>0.799447</td>\n",
              "      <td>0.069137</td>\n",
              "      <td>0.000000</td>\n",
              "      <td>1.250865</td>\n",
              "      <td>0.000000</td>\n",
              "      <td>0.077664</td>\n",
              "      <td>0.371972</td>\n",
              "      <td>0.382432</td>\n",
              "      <td>0.000000</td>\n",
              "      <td>1.000000</td>\n",
              "      <td>-100.000000</td>\n",
              "      <td>25.086505</td>\n",
              "    </tr>\n",
              "    <tr>\n",
              "      <th>14</th>\n",
              "      <td></td>\n",
              "      <td>15</td>\n",
              "      <td>0.899032</td>\n",
              "      <td>0.061809</td>\n",
              "      <td>0.000000</td>\n",
              "      <td>1.112308</td>\n",
              "      <td>0.000000</td>\n",
              "      <td>0.065468</td>\n",
              "      <td>0.330769</td>\n",
              "      <td>0.347322</td>\n",
              "      <td>0.000000</td>\n",
              "      <td>1.000000</td>\n",
              "      <td>-100.000000</td>\n",
              "      <td>11.230769</td>\n",
              "    </tr>\n",
              "    <tr>\n",
              "      <th>15</th>\n",
              "      <td></td>\n",
              "      <td>16</td>\n",
              "      <td>1.000000</td>\n",
              "      <td>0.055594</td>\n",
              "      <td>0.000000</td>\n",
              "      <td>1.000000</td>\n",
              "      <td>0.000000</td>\n",
              "      <td>0.058991</td>\n",
              "      <td>0.297372</td>\n",
              "      <td>0.318210</td>\n",
              "      <td>0.000000</td>\n",
              "      <td>1.000000</td>\n",
              "      <td>-100.000000</td>\n",
              "      <td>0.000000</td>\n",
              "    </tr>\n",
              "  </tbody>\n",
              "</table>\n",
              "</div>"
            ],
            "text/plain": [
              "      group  ...        gain  cumulative_gain\n",
              "0         1  ...  236.279070       236.279070\n",
              "1         2  ...  236.279070       236.279070\n",
              "2         3  ...  236.279070       236.279070\n",
              "3         4  ...  236.279070       236.279070\n",
              "4         5  ...  236.279070       236.279070\n",
              "5         6  ...  236.279070       236.279070\n",
              "6         7  ...  236.279070       236.279070\n",
              "7         8  ...  226.937984       233.959904\n",
              "8         9  ...  180.232558       216.133319\n",
              "9        10  ...  -48.624031       150.173010\n",
              "10       11  ... -100.000000        99.723757\n",
              "11       12  ... -100.000000        66.589862\n",
              "12       13  ... -100.000000        42.885375\n",
              "13       14  ... -100.000000        25.086505\n",
              "14       15  ... -100.000000        11.230769\n",
              "15       16  ... -100.000000         0.000000\n",
              "\n",
              "[16 rows x 14 columns]"
            ]
          },
          "metadata": {
            "tags": []
          }
        },
        {
          "output_type": "stream",
          "text": [
            "\n"
          ],
          "name": "stdout"
        },
        {
          "output_type": "execute_result",
          "data": {
            "text/plain": [
              ""
            ]
          },
          "metadata": {
            "tags": []
          },
          "execution_count": 18
        }
      ]
    },
    {
      "cell_type": "code",
      "metadata": {
        "id": "P3qpG5LOTULj",
        "colab_type": "code",
        "colab": {}
      },
      "source": [
        "# Convert H2O Frame to Pandas DataFrame\n",
        "y_test = test[y].as_data_frame()\n",
        "y_pred = preds[0].as_data_frame()"
      ],
      "execution_count": 0,
      "outputs": []
    },
    {
      "cell_type": "code",
      "metadata": {
        "id": "5kA6pNNnL-tl",
        "colab_type": "code",
        "outputId": "2dd21d11-acf6-486c-9272-402165eed13c",
        "colab": {
          "base_uri": "https://localhost:8080/",
          "height": 51
        }
      },
      "source": [
        "from sklearn.metrics import f1_score\n",
        "\n",
        "f1 = f1_score(y_test, y_pred)\n",
        "\n",
        "print(\"Evaluation Performance\")\n",
        "print(\"F1-Score ={:.4f}\".format(f1))"
      ],
      "execution_count": 20,
      "outputs": [
        {
          "output_type": "stream",
          "text": [
            "Evaluation Performance\n",
            "F1-Score =0.7706\n"
          ],
          "name": "stdout"
        }
      ]
    }
  ]
}